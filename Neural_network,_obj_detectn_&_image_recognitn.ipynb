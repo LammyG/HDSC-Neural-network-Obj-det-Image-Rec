{
  "nbformat": 4,
  "nbformat_minor": 0,
  "metadata": {
    "colab": {
      "name": "Neural network, obj detectn & image recognitn.ipynb",
      "provenance": [],
      "collapsed_sections": [],
      "authorship_tag": "ABX9TyOmASn/uwUCbr/CaBms+2d9",
      "include_colab_link": true
    },
    "kernelspec": {
      "name": "python3",
      "display_name": "Python 3"
    },
    "language_info": {
      "name": "python"
    }
  },
  "cells": [
    {
      "cell_type": "markdown",
      "metadata": {
        "id": "view-in-github",
        "colab_type": "text"
      },
      "source": [
        "<a href=\"https://colab.research.google.com/github/LammyG/HDSC-Neural-network-Obj-det-Image-Rec/blob/main/Neural_network%2C_obj_detectn_%26_image_recognitn.ipynb\" target=\"_parent\"><img src=\"https://colab.research.google.com/assets/colab-badge.svg\" alt=\"Open In Colab\"/></a>"
      ]
    },
    {
      "cell_type": "code",
      "execution_count": null,
      "metadata": {
        "colab": {
          "base_uri": "https://localhost:8080/"
        },
        "id": "t3EZfQnj9mx0",
        "outputId": "5a229e6c-ce4d-4cd3-e60b-3efb3b287219"
      },
      "outputs": [
        {
          "output_type": "stream",
          "name": "stdout",
          "text": [
            "Requirement already satisfied: tensorflow==1.15 in /usr/local/lib/python3.7/dist-packages (1.15.0)\n",
            "Requirement already satisfied: google-pasta>=0.1.6 in /usr/local/lib/python3.7/dist-packages (from tensorflow==1.15) (0.2.0)\n",
            "Requirement already satisfied: six>=1.10.0 in /usr/local/lib/python3.7/dist-packages (from tensorflow==1.15) (1.15.0)\n",
            "Requirement already satisfied: astor>=0.6.0 in /usr/local/lib/python3.7/dist-packages (from tensorflow==1.15) (0.8.1)\n",
            "Requirement already satisfied: gast==0.2.2 in /usr/local/lib/python3.7/dist-packages (from tensorflow==1.15) (0.2.2)\n",
            "Requirement already satisfied: wrapt>=1.11.1 in /usr/local/lib/python3.7/dist-packages (from tensorflow==1.15) (1.13.3)\n",
            "Requirement already satisfied: numpy<2.0,>=1.16.0 in /usr/local/lib/python3.7/dist-packages (from tensorflow==1.15) (1.21.5)\n",
            "Requirement already satisfied: keras-applications>=1.0.8 in /usr/local/lib/python3.7/dist-packages (from tensorflow==1.15) (1.0.8)\n",
            "Requirement already satisfied: tensorboard<1.16.0,>=1.15.0 in /usr/local/lib/python3.7/dist-packages (from tensorflow==1.15) (1.15.0)\n",
            "Requirement already satisfied: keras-preprocessing>=1.0.5 in /usr/local/lib/python3.7/dist-packages (from tensorflow==1.15) (1.1.2)\n",
            "Requirement already satisfied: grpcio>=1.8.6 in /usr/local/lib/python3.7/dist-packages (from tensorflow==1.15) (1.44.0)\n",
            "Requirement already satisfied: wheel>=0.26 in /usr/local/lib/python3.7/dist-packages (from tensorflow==1.15) (0.37.1)\n",
            "Requirement already satisfied: protobuf>=3.6.1 in /usr/local/lib/python3.7/dist-packages (from tensorflow==1.15) (3.17.3)\n",
            "Requirement already satisfied: absl-py>=0.7.0 in /usr/local/lib/python3.7/dist-packages (from tensorflow==1.15) (1.0.0)\n",
            "Requirement already satisfied: termcolor>=1.1.0 in /usr/local/lib/python3.7/dist-packages (from tensorflow==1.15) (1.1.0)\n",
            "Requirement already satisfied: tensorflow-estimator==1.15.1 in /usr/local/lib/python3.7/dist-packages (from tensorflow==1.15) (1.15.1)\n",
            "Requirement already satisfied: opt-einsum>=2.3.2 in /usr/local/lib/python3.7/dist-packages (from tensorflow==1.15) (3.3.0)\n",
            "Requirement already satisfied: h5py in /usr/local/lib/python3.7/dist-packages (from keras-applications>=1.0.8->tensorflow==1.15) (3.1.0)\n",
            "Requirement already satisfied: markdown>=2.6.8 in /usr/local/lib/python3.7/dist-packages (from tensorboard<1.16.0,>=1.15.0->tensorflow==1.15) (3.3.6)\n",
            "Requirement already satisfied: werkzeug>=0.11.15 in /usr/local/lib/python3.7/dist-packages (from tensorboard<1.16.0,>=1.15.0->tensorflow==1.15) (1.0.1)\n",
            "Requirement already satisfied: setuptools>=41.0.0 in /usr/local/lib/python3.7/dist-packages (from tensorboard<1.16.0,>=1.15.0->tensorflow==1.15) (57.4.0)\n",
            "Requirement already satisfied: importlib-metadata>=4.4 in /usr/local/lib/python3.7/dist-packages (from markdown>=2.6.8->tensorboard<1.16.0,>=1.15.0->tensorflow==1.15) (4.11.2)\n",
            "Requirement already satisfied: typing-extensions>=3.6.4 in /usr/local/lib/python3.7/dist-packages (from importlib-metadata>=4.4->markdown>=2.6.8->tensorboard<1.16.0,>=1.15.0->tensorflow==1.15) (3.10.0.2)\n",
            "Requirement already satisfied: zipp>=0.5 in /usr/local/lib/python3.7/dist-packages (from importlib-metadata>=4.4->markdown>=2.6.8->tensorboard<1.16.0,>=1.15.0->tensorflow==1.15) (3.7.0)\n",
            "Requirement already satisfied: cached-property in /usr/local/lib/python3.7/dist-packages (from h5py->keras-applications>=1.0.8->tensorflow==1.15) (1.5.2)\n"
          ]
        }
      ],
      "source": [
        "!pip install tensorflow==1.15"
      ]
    },
    {
      "cell_type": "code",
      "source": [
        "#Neural network, Image recognition & Object detection\n",
        "#introduction to keras and tensorFlow with python\n",
        "import numpy as np\n",
        "import pandas as pd\n",
        "import matplotlib.pyplot as plt\n",
        "import tensorflow as tf\n",
        "from tensorflow import keras\n",
        "mnist = keras.datasets.mnist\n",
        "(train_images, train_labels), (test_images, test_labels) = mnist.load_data()\n",
        "\n",
        "print(\"Training data: {}, {}\".format(train_images.shape, train_labels.shape))\n",
        "print(\"Test data: {}, {}\".format(test_images.shape, test_labels.shape))\n",
        "class_labels = np.unique(train_labels)\n",
        "print(\"There are {} classes in the dataset. They are: {}\".format(len(class_labels), class_labels))"
      ],
      "metadata": {
        "colab": {
          "base_uri": "https://localhost:8080/"
        },
        "id": "qwuXZdhe9oS7",
        "outputId": "810d7a55-0be9-4c9b-db7e-21e333174a9e"
      },
      "execution_count": null,
      "outputs": [
        {
          "output_type": "stream",
          "name": "stdout",
          "text": [
            "Training data: (60000, 28, 28), (60000,)\n",
            "Test data: (10000, 28, 28), (10000,)\n",
            "There are 10 classes in the dataset. They are: [0 1 2 3 4 5 6 7 8 9]\n"
          ]
        }
      ]
    },
    {
      "cell_type": "code",
      "source": [
        "plt.figure(figsize=(8, 5))\n",
        "plt.subplot(1, 3,1 )\n",
        "plt.imshow(train_images[0])\n",
        "plt.title(\"label:{}\".format(train_labels[0]))\n",
        "\n",
        "plt.subplot(1, 3, 2)\n",
        "plt.imshow(train_images[2500])\n",
        "plt.title(\"label:{}\".format(train_labels[2500]))\n",
        "\n",
        "plt.subplot(1, 3, 3)\n",
        "plt.imshow(test_images[12])\n",
        "\n",
        "plt.show\n"
      ],
      "metadata": {
        "colab": {
          "base_uri": "https://localhost:8080/",
          "height": 213
        },
        "id": "gBp78IWv-JLT",
        "outputId": "7b46e36b-d423-4f4b-b578-49cc1b87217a"
      },
      "execution_count": null,
      "outputs": [
        {
          "output_type": "execute_result",
          "data": {
            "text/plain": [
              "<function matplotlib.pyplot.show>"
            ]
          },
          "metadata": {},
          "execution_count": 67
        },
        {
          "output_type": "display_data",
          "data": {
            "text/plain": [
              "<Figure size 576x360 with 3 Axes>"
            ],
            "image/png": "[encoded data removed]"
          },
          "metadata": {
            "needs_background": "light"
          }
        }
      ]
    },
    {
      "cell_type": "code",
      "source": [
        "#as usual we scale our dataset to range between 0 and 1. in this dataset, the pixel values range from 0 to 255.\n",
        "#dividing the data by 255 scales to the required range\n",
        "train_images = train_images / 255.0\n",
        "test_images = test_images / 255.0\n",
        "\n"
      ],
      "metadata": {
        "id": "b9C-T1NN-N7M"
      },
      "execution_count": null,
      "outputs": []
    },
    {
      "cell_type": "code",
      "source": [
        "#split trainng data to training and validation sets\n",
        "x_train = train_images[0:50000]\n",
        "x_val = train_images[50000: ]\n",
        "y_train = train_labels[0:50000]\n",
        "y_val = train_labels[50000: ]\n",
        "\n",
        "print(\"x_train: {}\".format(x_train.shape))\n",
        "print(\"x_val: {}\".format(x_val.shape))\n",
        "print(\"y_train: {}\".format(y_train.shape))\n",
        "print(\"y_val: {}\".format(y_val.shape))\n"
      ],
      "metadata": {
        "colab": {
          "base_uri": "https://localhost:8080/"
        },
        "id": "cl7W0SCO-SDd",
        "outputId": "232d58a7-057b-48da-ff80-863d8058d6bc"
      },
      "execution_count": null,
      "outputs": [
        {
          "output_type": "stream",
          "name": "stdout",
          "text": [
            "x_train: (50000, 28, 28)\n",
            "x_val: (10000, 28, 28)\n",
            "y_train: (50000,)\n",
            "y_val: (10000,)\n"
          ]
        }
      ]
    },
    {
      "cell_type": "code",
      "source": [
        "#reshape data from 28*28 array to a single array\n",
        "new_dimension = np.prod(train_images.shape[1:])\n",
        "x_train = x_train.reshape(x_train.shape[0], new_dimension)\n",
        "x_val = x_val.reshape(x_val.shape[0], new_dimension)\n",
        "test_images = test_images.reshape(test_images.shape[0], new_dimension)\n",
        "\n",
        "print(\"x_train: {}\".format(x_train.shape))\n",
        "print(\"x_val: {}\".format(x_val.shape))\n",
        "print(\"test_images: {}\".format(test_images))"
      ],
      "metadata": {
        "colab": {
          "base_uri": "https://localhost:8080/"
        },
        "id": "Ta01esFl-WAv",
        "outputId": "361f7152-4c35-4bd2-8beb-a1cb0e9e7fe5"
      },
      "execution_count": null,
      "outputs": [
        {
          "output_type": "stream",
          "name": "stdout",
          "text": [
            "x_train: (50000, 784)\n",
            "x_val: (10000, 784)\n",
            "test_images: [[0. 0. 0. ... 0. 0. 0.]\n",
            " [0. 0. 0. ... 0. 0. 0.]\n",
            " [0. 0. 0. ... 0. 0. 0.]\n",
            " ...\n",
            " [0. 0. 0. ... 0. 0. 0.]\n",
            " [0. 0. 0. ... 0. 0. 0.]\n",
            " [0. 0. 0. ... 0. 0. 0.]]\n"
          ]
        }
      ]
    },
    {
      "cell_type": "code",
      "source": [
        "#encode labels to categorical variables\n",
        "from tensorflow.keras.utils import to_categorical\n",
        "no_labels = 10\n",
        "y_train = to_categorical(y_train, no_labels)\n",
        "y_val = to_categorical(y_val, no_labels)\n",
        "y_test = to_categorical(test_labels, no_labels)\n"
      ],
      "metadata": {
        "id": "teECsbY5-e1O"
      },
      "execution_count": null,
      "outputs": []
    },
    {
      "cell_type": "code",
      "source": [
        "#split trainng data to training and validation sets\n",
        "x_train = train_images[0:50000]\n",
        "x_val = train_images[50000: ]\n",
        "y_train = train_labels[0:50000]\n",
        "y_val = train_labels[50000: ]\n",
        "\n",
        "print(\"x_train: {}\".format(x_train.shape))\n",
        "print(\"x_val: {}\".format(x_val.shape))\n",
        "print(\"y_train: {}\".format(y_train.shape))\n",
        "print(\"y_val: {}\".format(y_val.shape))\n"
      ],
      "metadata": {
        "colab": {
          "base_uri": "https://localhost:8080/"
        },
        "id": "M4nhqO30-jQr",
        "outputId": "826ff584-d67c-4c70-919f-df23a08e303f"
      },
      "execution_count": null,
      "outputs": [
        {
          "output_type": "stream",
          "name": "stdout",
          "text": [
            "x_train: (50000, 28, 28)\n",
            "x_val: (10000, 28, 28)\n",
            "y_train: (50000,)\n",
            "y_val: (10000,)\n"
          ]
        }
      ]
    },
    {
      "cell_type": "code",
      "source": [
        "#inputs\n",
        "#placeholders are not enabled in tf2\n",
        "X = tf.placeholder(tf.float32, [None, new_dimension])\n",
        "Y = tf.placeholder(tf.float32, [None, no_labels])\n",
        "#create model architecture\n",
        "def multilayer_perceptron(x, no_classes, first_layer_neurons=256, second_layer_neurons=128):\n",
        "  # first layer\n",
        "  first_weight = tf.Variable(tf.random_uniform([new_dimension, first_layer_neurons]))\n",
        "  first_bias = tf.Variable(tf.zeros([first_layer_neurons]))\n",
        "  first_layer_output = tf.nn.relu(tf.add(tf.matmul(x, first_weight), first_bias))\n",
        "\n",
        "  #second layer\n",
        "  second_weight = tf.Variable(tf.random_uniform([first_layer_neurons, second_layer_neurons]))\n",
        "  second_bias = tf.Variable(tf.zeros([second_layer_neurons]))\n",
        "  second_layer_output = tf.nn.relu(tf.add(tf.matmul(first_layer_output, second_weight), second_bias))\n",
        "  #output layer\n",
        "  final_weight = tf.Variable(tf.random_uniform([second_layer_neurons, no_classes]))\n",
        "  final_bias = tf.Variable(tf.zeros([no_classes]))\n",
        "  logits = tf.add(tf.matmul(second_layer_output, final_weight), final_bias)\n",
        "\n",
        "  return logits\n",
        "  logits = multilayer_perceptron(X, no_labels)\n",
        "learning_rate = 0.01\n",
        "#we define the loss and optimiser of the network\n",
        "loss_op = tf.reduce_mean(tf.nn.softmax_cross_entropy_with_logits(logits=logits, labels=Y))\n",
        "optimiser = tf.train.AdamOptimizer(learning_rate=learning_rate)\n",
        "train_op = optimiser.minimize(loss_op)\n",
        "\n"
      ],
      "metadata": {
        "id": "xPV3a3P8-nIY"
      },
      "execution_count": null,
      "outputs": []
    },
    {
      "cell_type": "code",
      "source": [
        "#train model\n",
        "with tf.Session() as session:\n",
        "  session.run(init)\n",
        "  for epoch in range(epoch):\n",
        "    average_cost = 0\n",
        "    start, end = 0, batch_size\n",
        "\n",
        "    for i in range(iteration):\n",
        "      batch_x, batch_y = x_train[start: end], y_train[start: end]\n",
        "      _, loss = session.run([train_op, loss_op], feed_dict={X: batch_x, Y: batch_y})\n",
        "      start += batch_size\n",
        "      end += batch_size\n",
        "      #average loss\n",
        "      average_cost += loss/iteration\n",
        "\n",
        "    print(\"epoch========{}\".format(epoch))\n",
        "    \n",
        "    #evaluate model\n",
        "    prediction = tf.nn.softmax(logits)\n",
        "    ground_truth = tf.equal(tf.argmax(prediction, 1), tf.argmax(Y, 1))\n",
        "    accuracy = tf.reduce_mean(tf.cast(ground_truth, \"float\"))\n",
        "\n",
        "    print(\"Accuracy: {}\".format(accuracy.eval({X: test_images, Y: y_test})))"
      ],
      "metadata": {
        "id": "9NvdqspTJOr6"
      },
      "execution_count": null,
      "outputs": []
    },
    {
      "cell_type": "code",
      "source": [
        "#Optimization for training deep neural network\n",
        "\n",
        "#building a  sequential feed forward network in keras\n",
        "from tensorflow.keras.layers import Dense\n",
        "from tensorflow.keras.models import Sequential\n",
        "#build the model object\n",
        "model = Sequential()\n",
        "#build the input and hidden layer\n",
        "model.add(Dense(256, activation='relu', input_shape=(new_dimension, )))\n",
        "model.add(Dense(128, activation='relu'))\n",
        "#build the output layer\n",
        "model.add(Dense(no_labels, activation='softmax'))\n",
        "#configuring the training and learning process\n",
        "model.compile(optimizer='adam', loss=tf.keras.losses.categorical_crossentropy, metrics=['accuracy'])\n",
        "history = model.fit(x_train, y_train, validation_data=(x_val, y_val), epochs=20, batch_size=1000)\n",
        "test_loss, test_accuracy = model.evaluate(test_images, y_test)\n",
        "print('Test loss: {}'.format(test_loss))\n",
        "print('Test accuracy: {}'.format(test_accuracy))\n"
      ],
      "metadata": {
        "colab": {
          "base_uri": "https://localhost:8080/"
        },
        "id": "12HddeoyCoSW",
        "outputId": "cb343d39-ebdf-4308-a884-bcb5dcdcfa59"
      },
      "execution_count": null,
      "outputs": [
        {
          "output_type": "stream",
          "name": "stdout",
          "text": [
            "Train on 50000 samples, validate on 10000 samples\n",
            "Epoch 1/20\n",
            "50000/50000 [==============================] - 3s 54us/sample - loss: 0.6636 - acc: 0.8246 - val_loss: 0.2597 - val_acc: 0.9241\n",
            "Epoch 2/20\n",
            "50000/50000 [==============================] - 3s 62us/sample - loss: 0.2319 - acc: 0.9333 - val_loss: 0.1817 - val_acc: 0.9498\n",
            "Epoch 3/20\n",
            "50000/50000 [==============================] - 3s 67us/sample - loss: 0.1684 - acc: 0.9512 - val_loss: 0.1449 - val_acc: 0.9597\n",
            "Epoch 4/20\n",
            "50000/50000 [==============================] - 3s 63us/sample - loss: 0.1326 - acc: 0.9615 - val_loss: 0.1219 - val_acc: 0.9671\n",
            "Epoch 5/20\n",
            "50000/50000 [==============================] - 2s 41us/sample - loss: 0.1040 - acc: 0.9703 - val_loss: 0.1119 - val_acc: 0.9684\n",
            "Epoch 6/20\n",
            "50000/50000 [==============================] - 2s 34us/sample - loss: 0.0856 - acc: 0.9755 - val_loss: 0.1000 - val_acc: 0.9710\n",
            "Epoch 7/20\n",
            "50000/50000 [==============================] - 2s 34us/sample - loss: 0.0716 - acc: 0.9799 - val_loss: 0.0940 - val_acc: 0.9724\n",
            "Epoch 8/20\n",
            "50000/50000 [==============================] - 2s 35us/sample - loss: 0.0603 - acc: 0.9834 - val_loss: 0.0890 - val_acc: 0.9727\n",
            "Epoch 9/20\n",
            "50000/50000 [==============================] - 2s 33us/sample - loss: 0.0508 - acc: 0.9865 - val_loss: 0.0824 - val_acc: 0.9739\n",
            "Epoch 10/20\n",
            "50000/50000 [==============================] - 2s 34us/sample - loss: 0.0432 - acc: 0.9886 - val_loss: 0.0818 - val_acc: 0.9753\n",
            "Epoch 11/20\n",
            "50000/50000 [==============================] - 2s 34us/sample - loss: 0.0377 - acc: 0.9899 - val_loss: 0.0790 - val_acc: 0.9762\n",
            "Epoch 12/20\n",
            "50000/50000 [==============================] - 2s 34us/sample - loss: 0.0315 - acc: 0.9922 - val_loss: 0.0792 - val_acc: 0.9771\n",
            "Epoch 13/20\n",
            "50000/50000 [==============================] - 2s 33us/sample - loss: 0.0266 - acc: 0.9935 - val_loss: 0.0760 - val_acc: 0.9775\n",
            "Epoch 14/20\n",
            "50000/50000 [==============================] - 2s 46us/sample - loss: 0.0234 - acc: 0.9944 - val_loss: 0.0798 - val_acc: 0.9764\n",
            "Epoch 15/20\n",
            "50000/50000 [==============================] - 2s 34us/sample - loss: 0.0199 - acc: 0.9959 - val_loss: 0.0768 - val_acc: 0.9777\n",
            "Epoch 16/20\n",
            "50000/50000 [==============================] - 2s 33us/sample - loss: 0.0171 - acc: 0.9964 - val_loss: 0.0827 - val_acc: 0.9778\n",
            "Epoch 17/20\n",
            "50000/50000 [==============================] - 2s 33us/sample - loss: 0.0144 - acc: 0.9976 - val_loss: 0.0827 - val_acc: 0.9771\n",
            "Epoch 18/20\n",
            "50000/50000 [==============================] - 2s 34us/sample - loss: 0.0128 - acc: 0.9979 - val_loss: 0.0785 - val_acc: 0.9790\n",
            "Epoch 19/20\n",
            "50000/50000 [==============================] - 2s 44us/sample - loss: 0.0109 - acc: 0.9982 - val_loss: 0.0809 - val_acc: 0.9775\n",
            "Epoch 20/20\n",
            "50000/50000 [==============================] - 4s 75us/sample - loss: 0.0092 - acc: 0.9988 - val_loss: 0.0810 - val_acc: 0.9784\n",
            "10000/10000 [==============================] - 1s 136us/sample - loss: 0.0699 - acc: 0.9800\n",
            "Test loss: 0.06993495160910825\n",
            "Test accuracy: 0.9800000190734863\n"
          ]
        }
      ]
    },
    {
      "cell_type": "code",
      "source": [
        "#check for Overfitting\n",
        "plt.figure()\n",
        "plt.plot(history.history['loss'], 'blue')\n",
        "plt.plot(history.history['val_loss'], 'red')\n",
        "plt.legend(['Training loss', 'Validation Loss'])\n",
        "plt.xlabel('Epochs')\n",
        "plt.ylabel('Loss')\n",
        "plt.title('Loss Curves - before regularisation')"
      ],
      "metadata": {
        "colab": {
          "base_uri": "https://localhost:8080/",
          "height": 313
        },
        "id": "__NQbwogGwyf",
        "outputId": "4007a957-412f-4add-d10c-fc63438688a4"
      },
      "execution_count": null,
      "outputs": [
        {
          "output_type": "execute_result",
          "data": {
            "text/plain": [
              "Text(0.5, 1.0, 'Loss Curves - before regularisation')"
            ]
          },
          "metadata": {},
          "execution_count": 79
        },
        {
          "output_type": "display_data",
          "data": {
            "text/plain": [
              "<Figure size 432x288 with 1 Axes>"
            ],
            "image/png": "[encoded data removed]"
          },
          "metadata": {
            "needs_background": "light"
          }
        }
      ]
    },
    {
      "cell_type": "code",
      "source": [
        "#Although the validation and training loss seems great, we can see that the validation class increases. \n",
        "#this identifies overfitting in our network. how do we proceed? we introduce regularisation to the model\n",
        "from tensorflow.keras.layers import Dropout\n",
        "reg_model = Sequential()\n",
        "reg_model.add(Dense(256, activation='relu', input_shape=(new_dimension, )))\n",
        "reg_model.add(Dropout(0.4))\n",
        "reg_model.add(Dense(128, activation='relu'))\n",
        "reg_model.add(Dropout(0.4))\n",
        "reg_model.add(Dense(no_labels, activation='softmax'))\n",
        "\n",
        "reg_model.compile(optimizer='adam', loss=tf.keras.losses.categorical_crossentropy, metrics=['accuracy'])\n",
        "reg_history = reg_model.fit(x_train, y_train, validation_data=(x_val, y_val), epochs=20, batch_size=1000)\n",
        "test_loss, test_accuracy = model.evaluate(test_images, y_test)\n",
        "print('Test loss: {}'.format(test_loss))\n",
        "print('Test accuracy: {}'.format(test_accuracy))\n",
        "\n"
      ],
      "metadata": {
        "colab": {
          "base_uri": "https://localhost:8080/"
        },
        "id": "oZMpx1O8Iga7",
        "outputId": "5c48bc46-4676-4c44-9b75-adff6bdd2eee"
      },
      "execution_count": null,
      "outputs": [
        {
          "output_type": "stream",
          "name": "stdout",
          "text": [
            "Train on 50000 samples, validate on 10000 samples\n",
            "Epoch 1/20\n",
            "50000/50000 [==============================] - 2s 49us/sample - loss: 0.9984 - acc: 0.6849 - val_loss: 0.2970 - val_acc: 0.9143\n",
            "Epoch 2/20\n",
            "50000/50000 [==============================] - 2s 39us/sample - loss: 0.3773 - acc: 0.8887 - val_loss: 0.2007 - val_acc: 0.9410\n",
            "Epoch 3/20\n",
            "50000/50000 [==============================] - 2s 38us/sample - loss: 0.2835 - acc: 0.9183 - val_loss: 0.1636 - val_acc: 0.9533\n",
            "Epoch 4/20\n",
            "50000/50000 [==============================] - 2s 38us/sample - loss: 0.2338 - acc: 0.9325 - val_loss: 0.1372 - val_acc: 0.9614\n",
            "Epoch 5/20\n",
            "50000/50000 [==============================] - 2s 39us/sample - loss: 0.2013 - acc: 0.9420 - val_loss: 0.1230 - val_acc: 0.9651\n",
            "Epoch 6/20\n",
            "50000/50000 [==============================] - 2s 39us/sample - loss: 0.1773 - acc: 0.9478 - val_loss: 0.1112 - val_acc: 0.9681\n",
            "Epoch 7/20\n",
            "50000/50000 [==============================] - 2s 39us/sample - loss: 0.1623 - acc: 0.9523 - val_loss: 0.1048 - val_acc: 0.9712\n",
            "Epoch 8/20\n",
            "50000/50000 [==============================] - 2s 38us/sample - loss: 0.1454 - acc: 0.9564 - val_loss: 0.0974 - val_acc: 0.9715\n",
            "Epoch 9/20\n",
            "50000/50000 [==============================] - 2s 38us/sample - loss: 0.1343 - acc: 0.9604 - val_loss: 0.0926 - val_acc: 0.9722\n",
            "Epoch 10/20\n",
            "50000/50000 [==============================] - 2s 38us/sample - loss: 0.1235 - acc: 0.9628 - val_loss: 0.0888 - val_acc: 0.9738\n",
            "Epoch 11/20\n",
            "50000/50000 [==============================] - 2s 39us/sample - loss: 0.1119 - acc: 0.9665 - val_loss: 0.0826 - val_acc: 0.9760\n",
            "Epoch 12/20\n",
            "50000/50000 [==============================] - 2s 39us/sample - loss: 0.1077 - acc: 0.9678 - val_loss: 0.0841 - val_acc: 0.9748\n",
            "Epoch 13/20\n",
            "50000/50000 [==============================] - 2s 38us/sample - loss: 0.0988 - acc: 0.9697 - val_loss: 0.0766 - val_acc: 0.9774\n",
            "Epoch 14/20\n",
            "50000/50000 [==============================] - 2s 39us/sample - loss: 0.0923 - acc: 0.9720 - val_loss: 0.0767 - val_acc: 0.9780\n",
            "Epoch 15/20\n",
            "50000/50000 [==============================] - 2s 38us/sample - loss: 0.0861 - acc: 0.9740 - val_loss: 0.0742 - val_acc: 0.9783\n",
            "Epoch 16/20\n",
            "50000/50000 [==============================] - 2s 38us/sample - loss: 0.0820 - acc: 0.9750 - val_loss: 0.0739 - val_acc: 0.9793\n",
            "Epoch 17/20\n",
            "50000/50000 [==============================] - 2s 40us/sample - loss: 0.0760 - acc: 0.9770 - val_loss: 0.0713 - val_acc: 0.9796\n",
            "Epoch 18/20\n",
            "50000/50000 [==============================] - 2s 39us/sample - loss: 0.0722 - acc: 0.9775 - val_loss: 0.0711 - val_acc: 0.9801\n",
            "Epoch 19/20\n",
            "50000/50000 [==============================] - 2s 38us/sample - loss: 0.0709 - acc: 0.9789 - val_loss: 0.0729 - val_acc: 0.9792\n",
            "Epoch 20/20\n",
            "50000/50000 [==============================] - 2s 38us/sample - loss: 0.0651 - acc: 0.9795 - val_loss: 0.0709 - val_acc: 0.9792\n",
            "10000/10000 [==============================] - 1s 66us/sample - loss: 0.0699 - acc: 0.9800\n",
            "Test loss: 0.06993495160910825\n",
            "Test accuracy: 0.9800000190734863\n"
          ]
        }
      ]
    },
    {
      "cell_type": "code",
      "source": [
        "#check for Overfitting\n",
        "plt.figure()\n",
        "plt.plot(reg_history.history['loss'], 'blue')\n",
        "plt.plot(reg_history.history['val_loss'], 'red')\n",
        "plt.legend(['Training loss', 'Validation Loss'])\n",
        "plt.xlabel('Epochs')\n",
        "plt.ylabel('Loss')\n",
        "plt.title('Loss Curves - after regularisation')"
      ],
      "metadata": {
        "colab": {
          "base_uri": "https://localhost:8080/",
          "height": 313
        },
        "id": "AAIXcf6dPPBu",
        "outputId": "f8334211-9975-45c6-963c-99190ccfbc4a"
      },
      "execution_count": null,
      "outputs": [
        {
          "output_type": "execute_result",
          "data": {
            "text/plain": [
              "Text(0.5, 1.0, 'Loss Curves - after regularisation')"
            ]
          },
          "metadata": {},
          "execution_count": 84
        },
        {
          "output_type": "display_data",
          "data": {
            "text/plain": [
              "<Figure size 432x288 with 1 Axes>"
            ],
            "image/png": "[encoded data removed]"
          },
          "metadata": {
            "needs_background": "light"
          }
        }
      ]
    },
    {
      "cell_type": "code",
      "source": [
        "#making prediction\n",
        "#using our model to predict some images and labels\n",
        "prediction = model.predict([test_images])\n",
        "print(np.argmax(prediction[1000]))"
      ],
      "metadata": {
        "colab": {
          "base_uri": "https://localhost:8080/"
        },
        "id": "A_8yJcq9bqtB",
        "outputId": "1e23991d-1026-4490-d9f9-1270c6d9109a"
      },
      "execution_count": null,
      "outputs": [
        {
          "output_type": "stream",
          "name": "stdout",
          "text": [
            "9\n"
          ]
        }
      ]
    },
    {
      "cell_type": "code",
      "source": [
        "#let see whether the image would turn out to be 9\n",
        "plt.figure(figsize=(8, 5))\n",
        "plt.subplot(1,3,1)\n",
        "#import the image\n",
        "plt.imshow(test_images[1000].reshape(28,28), cmap=\"gray\")\n",
        "#show the image\n",
        "plt.show()"
      ],
      "metadata": {
        "colab": {
          "base_uri": "https://localhost:8080/",
          "height": 181
        },
        "id": "PUfC-j0kcggY",
        "outputId": "f5335a12-337f-4ac8-ccba-0a32aa338846"
      },
      "execution_count": null,
      "outputs": [
        {
          "output_type": "display_data",
          "data": {
            "text/plain": [
              "<Figure size 576x360 with 1 Axes>"
            ],
            "image/png": "[encoded data removed]"
          },
          "metadata": {
            "needs_background": "light"
          }
        }
      ]
    },
    {
      "cell_type": "code",
      "source": [
        "#trying out others\n",
        "prediction = model.predict([test_images])\n",
        "print(np.argmax(prediction[6500]))"
      ],
      "metadata": {
        "colab": {
          "base_uri": "https://localhost:8080/"
        },
        "id": "0K6tGU33hKC6",
        "outputId": "e51232cd-e390-4d11-d374-0fdd05fed529"
      },
      "execution_count": null,
      "outputs": [
        {
          "output_type": "stream",
          "name": "stdout",
          "text": [
            "5\n"
          ]
        }
      ]
    },
    {
      "cell_type": "code",
      "source": [
        "plt.figure(figsize=(8, 5))\n",
        "\n",
        "plt.subplot(1, 3, 1)\n",
        "plt.imshow(test_images[6500].reshape(28, 28), cmap=\"gray\")\n",
        "plt.show()"
      ],
      "metadata": {
        "colab": {
          "base_uri": "https://localhost:8080/",
          "height": 181
        },
        "id": "GsAl1_F9gGMW",
        "outputId": "729d0925-ea97-47f4-d35b-a11dd53b29d8"
      },
      "execution_count": null,
      "outputs": [
        {
          "output_type": "display_data",
          "data": {
            "text/plain": [
              "<Figure size 576x360 with 1 Axes>"
            ],
            "image/png": "[encoded data removed]"
          },
          "metadata": {
            "needs_background": "light"
          }
        }
      ]
    },
    {
      "cell_type": "code",
      "source": [
        "prediction = model.predict([test_images])\n",
        "print(np.argmax(prediction[3400]))"
      ],
      "metadata": {
        "colab": {
          "base_uri": "https://localhost:8080/"
        },
        "id": "65frhSsGhylg",
        "outputId": "80ece908-1ab1-430e-f398-219f0396cee8"
      },
      "execution_count": null,
      "outputs": [
        {
          "output_type": "stream",
          "name": "stdout",
          "text": [
            "7\n"
          ]
        }
      ]
    },
    {
      "cell_type": "code",
      "source": [
        "plt.figure(figsize=(8, 5))\n",
        "\n",
        "plt.subplot(1, 3, 1)\n",
        "plt.imshow(test_images[3400].reshape(28, 28), cmap=\"gray\")\n",
        "plt.show()"
      ],
      "metadata": {
        "colab": {
          "base_uri": "https://localhost:8080/",
          "height": 181
        },
        "id": "wcUeAlnRibDh",
        "outputId": "29731646-be3a-48d4-87ff-3e3fac92fbb3"
      },
      "execution_count": null,
      "outputs": [
        {
          "output_type": "display_data",
          "data": {
            "text/plain": [
              "<Figure size 576x360 with 1 Axes>"
            ],
            "image/png": "[encoded data removed]"
          },
          "metadata": {
            "needs_background": "light"
          }
        }
      ]
    },
    {
      "cell_type": "code",
      "source": [
        ""
      ],
      "metadata": {
        "id": "9NJJFtJgieCi"
      },
      "execution_count": null,
      "outputs": []
    }
  ]
}