{
 "cells": [
  {
   "cell_type": "code",
   "execution_count": 1,
   "id": "54b05ee0",
   "metadata": {
    "_cell_guid": "b1076dfc-b9ad-4769-8c92-a6c4dae69d19",
    "_uuid": "8f2839f25d086af736a60e9eeb907d3b93b6e0e5",
    "execution": {
     "iopub.execute_input": "2022-03-22T22:27:19.350012Z",
     "iopub.status.busy": "2022-03-22T22:27:19.348280Z",
     "iopub.status.idle": "2022-03-22T22:27:19.377221Z",
     "shell.execute_reply": "2022-03-22T22:27:19.377755Z",
     "shell.execute_reply.started": "2022-03-22T22:12:26.347008Z"
    },
    "papermill": {
     "duration": 0.064049,
     "end_time": "2022-03-22T22:27:19.378063",
     "exception": false,
     "start_time": "2022-03-22T22:27:19.314014",
     "status": "completed"
    },
    "tags": []
   },
   "outputs": [
    {
     "name": "stdout",
     "output_type": "stream",
     "text": [
      "/kaggle/input/planet-datasetm/test_v2_file_mapping.csv\n",
      "/kaggle/input/planet-dataset-m/Kaggle-planet-train-tif.torrent\n",
      "/kaggle/input/planet-dataset-m/train_v2.csv\n",
      "/kaggle/input/planet-dataset-m/Kaggle-planet-test-tif.torrent\n",
      "/kaggle/input/planet-dataset-m/sample_submission_v2.csv\n"
     ]
    }
   ],
   "source": [
    "# This Python 3 environment comes with many helpful analytics libraries installed\n",
    "# It is defined by the kaggle/python Docker image: https://github.com/kaggle/docker-python\n",
    "# For example, here's several helpful packages to load\n",
    "\n",
    "import numpy as np # linear algebra\n",
    "import pandas as pd # data processing, CSV file I/O (e.g. pd.read_csv)\n",
    "\n",
    "# Input data files are available in the read-only \"../input/\" directory\n",
    "# For example, running this (by clicking run or pressing Shift+Enter) will list all files under the input directory\n",
    "\n",
    "import os\n",
    "for dirname, _, filenames in os.walk('/kaggle/input'):\n",
    "    for filename in filenames:\n",
    "        print(os.path.join(dirname, filename))\n",
    "\n",
    "# You can write up to 20GB to the current directory (/kaggle/working/) that gets preserved as output when you create a version using \"Save & Run All\" \n",
    "# You can also write temporary files to /kaggle/temp/, but they won't be saved outside of the current session"
   ]
  },
  {
   "cell_type": "code",
   "execution_count": 2,
   "id": "99e59d90",
   "metadata": {
    "execution": {
     "iopub.execute_input": "2022-03-22T22:27:19.441442Z",
     "iopub.status.busy": "2022-03-22T22:27:19.440461Z",
     "iopub.status.idle": "2022-03-22T22:27:30.862452Z",
     "shell.execute_reply": "2022-03-22T22:27:30.863063Z",
     "shell.execute_reply.started": "2022-03-22T22:12:35.866593Z"
    },
    "papermill": {
     "duration": 11.455178,
     "end_time": "2022-03-22T22:27:30.863242",
     "exception": false,
     "start_time": "2022-03-22T22:27:19.408064",
     "status": "completed"
    },
    "tags": []
   },
   "outputs": [
    {
     "name": "stdout",
     "output_type": "stream",
     "text": [
      "Collecting pathlib\r\n",
      "  Downloading pathlib-1.0.1.tar.gz (49 kB)\r\n",
      "     |████████████████████████████████| 49 kB 1.8 MB/s             \r\n",
      "\u001b[?25h  Preparing metadata (setup.py) ... \u001b[?25l-\b \bdone\r\n",
      "\u001b[?25hBuilding wheels for collected packages: pathlib\r\n",
      "  Building wheel for pathlib (setup.py) ... \u001b[?25l-\b \b\\\b \bdone\r\n",
      "\u001b[?25h  Created wheel for pathlib: filename=pathlib-1.0.1-py3-none-any.whl size=14363 sha256=e28139601620762fb8c8693b5a6fd482fdcb168166effe9a996d5ccd6d81fc76\r\n",
      "  Stored in directory: /root/.cache/pip/wheels/6e/96/b8/10037fe231e23970bac58361d7c93571ab983a7bbc55e68550\r\n",
      "Successfully built pathlib\r\n",
      "Installing collected packages: pathlib\r\n",
      "Successfully installed pathlib-1.0.1\r\n",
      "\u001b[33mWARNING: Running pip as the 'root' user can result in broken permissions and conflicting behaviour with the system package manager. It is recommended to use a virtual environment instead: https://pip.pypa.io/warnings/venv\u001b[0m\r\n"
     ]
    }
   ],
   "source": [
    "!pip install pathlib"
   ]
  },
  {
   "cell_type": "code",
   "execution_count": 3,
   "id": "a741a6f6",
   "metadata": {
    "execution": {
     "iopub.execute_input": "2022-03-22T22:27:30.932233Z",
     "iopub.status.busy": "2022-03-22T22:27:30.931446Z",
     "iopub.status.idle": "2022-03-22T22:27:30.937445Z",
     "shell.execute_reply": "2022-03-22T22:27:30.938152Z",
     "shell.execute_reply.started": "2022-03-22T22:12:48.037143Z"
    },
    "papermill": {
     "duration": 0.043455,
     "end_time": "2022-03-22T22:27:30.938360",
     "exception": false,
     "start_time": "2022-03-22T22:27:30.894905",
     "status": "completed"
    },
    "tags": []
   },
   "outputs": [
    {
     "name": "stdout",
     "output_type": "stream",
     "text": [
      "['Kaggle-planet-train-tif.torrent', 'train_v2.csv', 'Kaggle-planet-test-tif.torrent', 'sample_submission_v2.csv']\n",
      "['test_v2_file_mapping.csv']\n"
     ]
    }
   ],
   "source": [
    "print(os.listdir(\"../input/planet-dataset-m\"))\n",
    "print(os.listdir(\"../input/planet-datasetm\"))\n"
   ]
  },
  {
   "cell_type": "markdown",
   "id": "2bce438a",
   "metadata": {
    "papermill": {
     "duration": 0.031785,
     "end_time": "2022-03-22T22:27:31.003431",
     "exception": false,
     "start_time": "2022-03-22T22:27:30.971646",
     "status": "completed"
    },
    "tags": []
   },
   "source": []
  },
  {
   "cell_type": "code",
   "execution_count": 4,
   "id": "bb18cbbb",
   "metadata": {
    "execution": {
     "iopub.execute_input": "2022-03-22T22:27:31.075082Z",
     "iopub.status.busy": "2022-03-22T22:27:31.074417Z",
     "iopub.status.idle": "2022-03-22T22:27:31.148323Z",
     "shell.execute_reply": "2022-03-22T22:27:31.147171Z",
     "shell.execute_reply.started": "2022-03-22T22:13:49.316412Z"
    },
    "papermill": {
     "duration": 0.112166,
     "end_time": "2022-03-22T22:27:31.148496",
     "exception": false,
     "start_time": "2022-03-22T22:27:31.036330",
     "status": "completed"
    },
    "tags": []
   },
   "outputs": [
    {
     "name": "stdout",
     "output_type": "stream",
     "text": [
      "Training data shape:  (40479, 2)\n"
     ]
    },
    {
     "data": {
      "text/html": [
       "<div>\n",
       "<style scoped>\n",
       "    .dataframe tbody tr th:only-of-type {\n",
       "        vertical-align: middle;\n",
       "    }\n",
       "\n",
       "    .dataframe tbody tr th {\n",
       "        vertical-align: top;\n",
       "    }\n",
       "\n",
       "    .dataframe thead th {\n",
       "        text-align: right;\n",
       "    }\n",
       "</style>\n",
       "<table border=\"1\" class=\"dataframe\">\n",
       "  <thead>\n",
       "    <tr style=\"text-align: right;\">\n",
       "      <th></th>\n",
       "      <th>image_name</th>\n",
       "      <th>tags</th>\n",
       "    </tr>\n",
       "  </thead>\n",
       "  <tbody>\n",
       "    <tr>\n",
       "      <th>0</th>\n",
       "      <td>train_0</td>\n",
       "      <td>haze primary</td>\n",
       "    </tr>\n",
       "    <tr>\n",
       "      <th>1</th>\n",
       "      <td>train_1</td>\n",
       "      <td>agriculture clear primary water</td>\n",
       "    </tr>\n",
       "    <tr>\n",
       "      <th>2</th>\n",
       "      <td>train_2</td>\n",
       "      <td>clear primary</td>\n",
       "    </tr>\n",
       "    <tr>\n",
       "      <th>3</th>\n",
       "      <td>train_3</td>\n",
       "      <td>clear primary</td>\n",
       "    </tr>\n",
       "    <tr>\n",
       "      <th>4</th>\n",
       "      <td>train_4</td>\n",
       "      <td>agriculture clear habitation primary road</td>\n",
       "    </tr>\n",
       "  </tbody>\n",
       "</table>\n",
       "</div>"
      ],
      "text/plain": [
       "  image_name                                       tags\n",
       "0    train_0                               haze primary\n",
       "1    train_1            agriculture clear primary water\n",
       "2    train_2                              clear primary\n",
       "3    train_3                              clear primary\n",
       "4    train_4  agriculture clear habitation primary road"
      ]
     },
     "execution_count": 4,
     "metadata": {},
     "output_type": "execute_result"
    }
   ],
   "source": [
    "#training data\n",
    "df_train = pd.read_csv('../input/planet-dataset-m/train_v2.csv')\n",
    "print('Training data shape: ', df_train.shape)\n",
    "df_train.head()"
   ]
  },
  {
   "cell_type": "code",
   "execution_count": 5,
   "id": "ffdbb2f0",
   "metadata": {
    "execution": {
     "iopub.execute_input": "2022-03-22T22:27:31.239321Z",
     "iopub.status.busy": "2022-03-22T22:27:31.237363Z",
     "iopub.status.idle": "2022-03-22T22:27:31.286463Z",
     "shell.execute_reply": "2022-03-22T22:27:31.287009Z",
     "shell.execute_reply.started": "2022-03-22T22:14:09.637744Z"
    },
    "papermill": {
     "duration": 0.096695,
     "end_time": "2022-03-22T22:27:31.287191",
     "exception": false,
     "start_time": "2022-03-22T22:27:31.190496",
     "status": "completed"
    },
    "tags": []
   },
   "outputs": [
    {
     "name": "stdout",
     "output_type": "stream",
     "text": [
      "Testing data shape:  (20522, 2)\n"
     ]
    },
    {
     "data": {
      "text/html": [
       "<div>\n",
       "<style scoped>\n",
       "    .dataframe tbody tr th:only-of-type {\n",
       "        vertical-align: middle;\n",
       "    }\n",
       "\n",
       "    .dataframe tbody tr th {\n",
       "        vertical-align: top;\n",
       "    }\n",
       "\n",
       "    .dataframe thead th {\n",
       "        text-align: right;\n",
       "    }\n",
       "</style>\n",
       "<table border=\"1\" class=\"dataframe\">\n",
       "  <thead>\n",
       "    <tr style=\"text-align: right;\">\n",
       "      <th></th>\n",
       "      <th>old</th>\n",
       "      <th>new</th>\n",
       "    </tr>\n",
       "  </thead>\n",
       "  <tbody>\n",
       "    <tr>\n",
       "      <th>0</th>\n",
       "      <td>file_4158.tif</td>\n",
       "      <td>file_18830.tif</td>\n",
       "    </tr>\n",
       "    <tr>\n",
       "      <th>1</th>\n",
       "      <td>file_1668.tif</td>\n",
       "      <td>file_19164.tif</td>\n",
       "    </tr>\n",
       "    <tr>\n",
       "      <th>2</th>\n",
       "      <td>file_2411.tif</td>\n",
       "      <td>file_15749.tif</td>\n",
       "    </tr>\n",
       "    <tr>\n",
       "      <th>3</th>\n",
       "      <td>file_16047.tif</td>\n",
       "      <td>file_7531.tif</td>\n",
       "    </tr>\n",
       "    <tr>\n",
       "      <th>4</th>\n",
       "      <td>file_1271.tif</td>\n",
       "      <td>file_18347.tif</td>\n",
       "    </tr>\n",
       "  </tbody>\n",
       "</table>\n",
       "</div>"
      ],
      "text/plain": [
       "              old             new\n",
       "0   file_4158.tif  file_18830.tif\n",
       "1   file_1668.tif  file_19164.tif\n",
       "2   file_2411.tif  file_15749.tif\n",
       "3  file_16047.tif   file_7531.tif\n",
       "4   file_1271.tif  file_18347.tif"
      ]
     },
     "execution_count": 5,
     "metadata": {},
     "output_type": "execute_result"
    }
   ],
   "source": [
    "# Testing data features\n",
    "import numpy as np\n",
    "import pandas as pd\n",
    "df_test = pd.read_csv('../input/planet-datasetm/test_v2_file_mapping.csv')\n",
    "print('Testing data shape: ', df_test.shape)\n",
    "df_test.head()"
   ]
  },
  {
   "cell_type": "code",
   "execution_count": 6,
   "id": "5874fe74",
   "metadata": {
    "execution": {
     "iopub.execute_input": "2022-03-22T22:27:31.370972Z",
     "iopub.status.busy": "2022-03-22T22:27:31.370257Z",
     "iopub.status.idle": "2022-03-22T22:27:31.389786Z",
     "shell.execute_reply": "2022-03-22T22:27:31.390247Z",
     "shell.execute_reply.started": "2022-03-22T22:14:14.856810Z"
    },
    "papermill": {
     "duration": 0.067891,
     "end_time": "2022-03-22T22:27:31.390445",
     "exception": false,
     "start_time": "2022-03-22T22:27:31.322554",
     "status": "completed"
    },
    "tags": []
   },
   "outputs": [
    {
     "name": "stdout",
     "output_type": "stream",
     "text": [
      "<class 'pandas.core.frame.DataFrame'>\n",
      "RangeIndex: 40479 entries, 0 to 40478\n",
      "Data columns (total 2 columns):\n",
      " #   Column      Non-Null Count  Dtype \n",
      "---  ------      --------------  ----- \n",
      " 0   image_name  40479 non-null  object\n",
      " 1   tags        40479 non-null  object\n",
      "dtypes: object(2)\n",
      "memory usage: 632.6+ KB\n"
     ]
    }
   ],
   "source": [
    "df_train.info(verbose=True, show_counts=True)"
   ]
  },
  {
   "cell_type": "code",
   "execution_count": 7,
   "id": "edad96d1",
   "metadata": {
    "execution": {
     "iopub.execute_input": "2022-03-22T22:27:31.466180Z",
     "iopub.status.busy": "2022-03-22T22:27:31.465561Z",
     "iopub.status.idle": "2022-03-22T22:27:31.471756Z",
     "shell.execute_reply": "2022-03-22T22:27:31.472175Z",
     "shell.execute_reply.started": "2022-03-22T22:14:20.037181Z"
    },
    "papermill": {
     "duration": 0.044407,
     "end_time": "2022-03-22T22:27:31.472336",
     "exception": false,
     "start_time": "2022-03-22T22:27:31.427929",
     "status": "completed"
    },
    "tags": []
   },
   "outputs": [
    {
     "data": {
      "text/plain": [
       "object    2\n",
       "dtype: int64"
      ]
     },
     "execution_count": 7,
     "metadata": {},
     "output_type": "execute_result"
    }
   ],
   "source": [
    "# Number of each type of column\n",
    "df_train.dtypes.value_counts()"
   ]
  },
  {
   "cell_type": "code",
   "execution_count": 8,
   "id": "7f4cd020",
   "metadata": {
    "execution": {
     "iopub.execute_input": "2022-03-22T22:27:31.549744Z",
     "iopub.status.busy": "2022-03-22T22:27:31.549126Z",
     "iopub.status.idle": "2022-03-22T22:27:31.571656Z",
     "shell.execute_reply": "2022-03-22T22:27:31.571074Z",
     "shell.execute_reply.started": "2022-03-22T22:14:24.077438Z"
    },
    "papermill": {
     "duration": 0.063527,
     "end_time": "2022-03-22T22:27:31.571805",
     "exception": false,
     "start_time": "2022-03-22T22:27:31.508278",
     "status": "completed"
    },
    "tags": []
   },
   "outputs": [
    {
     "data": {
      "text/plain": [
       "image_name    40479\n",
       "tags            449\n",
       "dtype: int64"
      ]
     },
     "execution_count": 8,
     "metadata": {},
     "output_type": "execute_result"
    }
   ],
   "source": [
    "# Number of unique classes in each object column\n",
    "df_train.select_dtypes('object').apply(pd.Series.nunique, axis = 0)"
   ]
  },
  {
   "cell_type": "code",
   "execution_count": 9,
   "id": "c8f70e5e",
   "metadata": {
    "execution": {
     "iopub.execute_input": "2022-03-22T22:27:31.652214Z",
     "iopub.status.busy": "2022-03-22T22:27:31.650654Z",
     "iopub.status.idle": "2022-03-22T22:27:42.293972Z",
     "shell.execute_reply": "2022-03-22T22:27:42.294455Z",
     "shell.execute_reply.started": "2022-03-22T22:14:28.478022Z"
    },
    "papermill": {
     "duration": 10.687437,
     "end_time": "2022-03-22T22:27:42.294648",
     "exception": false,
     "start_time": "2022-03-22T22:27:31.607211",
     "status": "completed"
    },
    "tags": []
   },
   "outputs": [
    {
     "data": {
      "text/html": [
       "<style type='text/css'>\n",
       ".datatable table.frame { margin-bottom: 0; }\n",
       ".datatable table.frame thead { border-bottom: none; }\n",
       ".datatable table.frame tr.coltypes td {  color: #FFFFFF;  line-height: 6px;  padding: 0 0.5em;}\n",
       ".datatable .bool    { background: #DDDD99; }\n",
       ".datatable .object  { background: #565656; }\n",
       ".datatable .int     { background: #5D9E5D; }\n",
       ".datatable .float   { background: #4040CC; }\n",
       ".datatable .str     { background: #CC4040; }\n",
       ".datatable .time    { background: #40CC40; }\n",
       ".datatable .row_index {  background: var(--jp-border-color3);  border-right: 1px solid var(--jp-border-color0);  color: var(--jp-ui-font-color3);  font-size: 9px;}\n",
       ".datatable .frame tbody td { text-align: left; }\n",
       ".datatable .frame tr.coltypes .row_index {  background: var(--jp-border-color0);}\n",
       ".datatable th:nth-child(2) { padding-left: 12px; }\n",
       ".datatable .hellipsis {  color: var(--jp-cell-editor-border-color);}\n",
       ".datatable .vellipsis {  background: var(--jp-layout-color0);  color: var(--jp-cell-editor-border-color);}\n",
       ".datatable .na {  color: var(--jp-cell-editor-border-color);  font-size: 80%;}\n",
       ".datatable .sp {  opacity: 0.25;}\n",
       ".datatable .footer { font-size: 9px; }\n",
       ".datatable .frame_dimensions {  background: var(--jp-border-color3);  border-top: 1px solid var(--jp-border-color0);  color: var(--jp-ui-font-color3);  display: inline-block;  opacity: 0.6;  padding: 1px 10px 1px 5px;}\n",
       "</style>\n"
      ],
      "text/plain": [
       "<IPython.core.display.HTML object>"
      ]
     },
     "metadata": {},
     "output_type": "display_data"
    },
    {
     "name": "stdout",
     "output_type": "stream",
     "text": [
      "Collecting klib\r\n",
      "  Downloading klib-1.0.1-py3-none-any.whl (20 kB)\r\n",
      "Requirement already satisfied: numpy<2.0.0,>=1.16.3 in /opt/conda/lib/python3.7/site-packages (from klib) (1.20.3)\r\n",
      "Requirement already satisfied: Jinja2<4.0.0,>=3.0.3 in /opt/conda/lib/python3.7/site-packages (from klib) (3.0.3)\r\n",
      "Requirement already satisfied: matplotlib<4.0.0,>=3.0.3 in /opt/conda/lib/python3.7/site-packages (from klib) (3.5.1)\r\n",
      "Requirement already satisfied: scipy<2.0.0,>=1.1.0 in /opt/conda/lib/python3.7/site-packages (from klib) (1.7.3)\r\n",
      "Requirement already satisfied: pandas<2.0.0,>=1.1.2 in /opt/conda/lib/python3.7/site-packages (from klib) (1.3.5)\r\n",
      "Requirement already satisfied: seaborn<0.12.0,>=0.11.1 in /opt/conda/lib/python3.7/site-packages (from klib) (0.11.2)\r\n",
      "Requirement already satisfied: MarkupSafe>=2.0 in /opt/conda/lib/python3.7/site-packages (from Jinja2<4.0.0,>=3.0.3->klib) (2.1.1)\r\n",
      "Requirement already satisfied: pillow>=6.2.0 in /opt/conda/lib/python3.7/site-packages (from matplotlib<4.0.0,>=3.0.3->klib) (8.2.0)\r\n",
      "Requirement already satisfied: python-dateutil>=2.7 in /opt/conda/lib/python3.7/site-packages (from matplotlib<4.0.0,>=3.0.3->klib) (2.8.2)\r\n",
      "Requirement already satisfied: packaging>=20.0 in /opt/conda/lib/python3.7/site-packages (from matplotlib<4.0.0,>=3.0.3->klib) (21.3)\r\n",
      "Requirement already satisfied: kiwisolver>=1.0.1 in /opt/conda/lib/python3.7/site-packages (from matplotlib<4.0.0,>=3.0.3->klib) (1.3.2)\r\n",
      "Requirement already satisfied: cycler>=0.10 in /opt/conda/lib/python3.7/site-packages (from matplotlib<4.0.0,>=3.0.3->klib) (0.11.0)\r\n",
      "Requirement already satisfied: pyparsing>=2.2.1 in /opt/conda/lib/python3.7/site-packages (from matplotlib<4.0.0,>=3.0.3->klib) (3.0.6)\r\n",
      "Requirement already satisfied: fonttools>=4.22.0 in /opt/conda/lib/python3.7/site-packages (from matplotlib<4.0.0,>=3.0.3->klib) (4.28.4)\r\n",
      "Requirement already satisfied: pytz>=2017.3 in /opt/conda/lib/python3.7/site-packages (from pandas<2.0.0,>=1.1.2->klib) (2021.3)\r\n",
      "Requirement already satisfied: six>=1.5 in /opt/conda/lib/python3.7/site-packages (from python-dateutil>=2.7->matplotlib<4.0.0,>=3.0.3->klib) (1.16.0)\r\n",
      "Installing collected packages: klib\r\n",
      "Successfully installed klib-1.0.1\r\n",
      "\u001b[33mWARNING: Running pip as the 'root' user can result in broken permissions and conflicting behaviour with the system package manager. It is recommended to use a virtual environment instead: https://pip.pypa.io/warnings/venv\u001b[0m\r\n"
     ]
    }
   ],
   "source": [
    "pd.set_option('display.max_rows', 500)\n",
    "import gc\n",
    "\n",
    "# sklearn preprocessing \n",
    "from sklearn.metrics import confusion_matrix, roc_auc_score ,roc_curve,auc\n",
    "from sklearn.preprocessing import LabelEncoder\n",
    "from sklearn.model_selection import train_test_split\n",
    "from sklearn.linear_model import LogisticRegression\n",
    "from sklearn.ensemble import RandomForestClassifier\n",
    "from sklearn.model_selection import cross_val_score\n",
    "from sklearn.model_selection import StratifiedKFold\n",
    "from sklearn.metrics import classification_report\n",
    "\n",
    "import lightgbm as lgb\n",
    "\n",
    "\n",
    "#eda\n",
    "!pip install klib\n",
    "import klib\n",
    "\n",
    "# Suppress warnings \n",
    "import warnings\n",
    "warnings.filterwarnings('ignore')\n",
    "\n",
    "# matplotlib and seaborn for plotting\n",
    "import matplotlib.pyplot as plt\n",
    "import seaborn as sns\n",
    "\n",
    "\n",
    "seed = 2357\n",
    "np.random.seed(seed)"
   ]
  },
  {
   "cell_type": "code",
   "execution_count": 10,
   "id": "06a18580",
   "metadata": {
    "execution": {
     "iopub.execute_input": "2022-03-22T22:27:42.375743Z",
     "iopub.status.busy": "2022-03-22T22:27:42.374737Z",
     "iopub.status.idle": "2022-03-22T22:27:42.606821Z",
     "shell.execute_reply": "2022-03-22T22:27:42.606156Z",
     "shell.execute_reply.started": "2022-03-22T22:15:05.401970Z"
    },
    "papermill": {
     "duration": 0.27346,
     "end_time": "2022-03-22T22:27:42.606960",
     "exception": false,
     "start_time": "2022-03-22T22:27:42.333500",
     "status": "completed"
    },
    "tags": []
   },
   "outputs": [
    {
     "name": "stdout",
     "output_type": "stream",
     "text": [
      "Shape of cleaned data: (40479, 2)Remaining NAs: 0\n",
      "\n",
      "Changes:\n",
      "Dropped rows: 0\n",
      "     of which 0 duplicates. (Rows: [])\n",
      "Dropped columns: 0\n",
      "     of which 0 single valued.     Columns: []\n",
      "Dropped missing values: 0\n",
      "Reduced memory by at least: 0.21 MB (-33.87%)\n",
      "\n",
      "No missing values found in the dataset.\n"
     ]
    }
   ],
   "source": [
    "df_cleaned_train = klib.data_cleaning(df_train)\n",
    "klib.missingval_plot(df_cleaned_train)"
   ]
  },
  {
   "cell_type": "code",
   "execution_count": 11,
   "id": "39860623",
   "metadata": {
    "execution": {
     "iopub.execute_input": "2022-03-22T22:27:42.690294Z",
     "iopub.status.busy": "2022-03-22T22:27:42.689252Z",
     "iopub.status.idle": "2022-03-22T22:27:42.840954Z",
     "shell.execute_reply": "2022-03-22T22:27:42.840412Z",
     "shell.execute_reply.started": "2022-03-22T22:15:52.572398Z"
    },
    "papermill": {
     "duration": 0.196037,
     "end_time": "2022-03-22T22:27:42.841118",
     "exception": false,
     "start_time": "2022-03-22T22:27:42.645081",
     "status": "completed"
    },
    "tags": []
   },
   "outputs": [
    {
     "data": {
      "text/plain": [
       "66"
      ]
     },
     "execution_count": 11,
     "metadata": {},
     "output_type": "execute_result"
    }
   ],
   "source": [
    "#Preprocessing data\n",
    "# combine train and test together to do common feature engineering\n",
    "\n",
    "train_copy = df_train.copy()\n",
    "test_copy = df_test.copy()\n",
    "\n",
    "# set up a flag field to distinguish records from training and testing sets in the combined dataset\n",
    "train_copy['source'] = 0\n",
    "test_copy['source'] = 1\n",
    "\n",
    "\n",
    "all_data = pd.concat([train_copy, test_copy], axis=0, copy=True)\n",
    "del train_copy\n",
    "del test_copy\n",
    "gc.collect()"
   ]
  },
  {
   "cell_type": "code",
   "execution_count": 12,
   "id": "49a613a3",
   "metadata": {
    "execution": {
     "iopub.execute_input": "2022-03-22T22:27:42.927944Z",
     "iopub.status.busy": "2022-03-22T22:27:42.924106Z",
     "iopub.status.idle": "2022-03-22T22:27:42.939526Z",
     "shell.execute_reply": "2022-03-22T22:27:42.939975Z",
     "shell.execute_reply.started": "2022-03-22T22:16:08.587330Z"
    },
    "papermill": {
     "duration": 0.060313,
     "end_time": "2022-03-22T22:27:42.940150",
     "exception": false,
     "start_time": "2022-03-22T22:27:42.879837",
     "status": "completed"
    },
    "tags": []
   },
   "outputs": [
    {
     "data": {
      "text/plain": [
       "Index(['image_name', 'tags', 'old', 'new'], dtype='object')"
      ]
     },
     "execution_count": 12,
     "metadata": {},
     "output_type": "execute_result"
    }
   ],
   "source": [
    "categorical_columns = all_data.select_dtypes('object').columns\n",
    "categorical_columns"
   ]
  },
  {
   "cell_type": "code",
   "execution_count": 13,
   "id": "d581d2c9",
   "metadata": {
    "execution": {
     "iopub.execute_input": "2022-03-22T22:27:43.026442Z",
     "iopub.status.busy": "2022-03-22T22:27:43.025831Z",
     "iopub.status.idle": "2022-03-22T22:27:43.357939Z",
     "shell.execute_reply": "2022-03-22T22:27:43.357366Z",
     "shell.execute_reply.started": "2022-03-22T22:16:13.662497Z"
    },
    "papermill": {
     "duration": 0.378424,
     "end_time": "2022-03-22T22:27:43.358094",
     "exception": false,
     "start_time": "2022-03-22T22:27:42.979670",
     "status": "completed"
    },
    "tags": []
   },
   "outputs": [
    {
     "name": "stdout",
     "output_type": "stream",
     "text": [
      "Index(['image_name', 'tags', 'old', 'new'], dtype='object')\n",
      "<class 'pandas.core.frame.DataFrame'>\n",
      "Int64Index: 61001 entries, 0 to 20521\n",
      "Data columns (total 5 columns):\n",
      " #   Column      Non-Null Count  Dtype\n",
      "---  ------      --------------  -----\n",
      " 0   image_name  61001 non-null  int64\n",
      " 1   tags        61001 non-null  int64\n",
      " 2   source      61001 non-null  int64\n",
      " 3   old         61001 non-null  int64\n",
      " 4   new         61001 non-null  int64\n",
      "dtypes: int64(5)\n",
      "memory usage: 2.8 MB\n",
      "None\n"
     ]
    }
   ],
   "source": [
    "objList = all_data.select_dtypes(include = \"object\").columns\n",
    "print (objList)\n",
    "\n",
    "\n",
    "# Create a label encoder object\n",
    "le = LabelEncoder()\n",
    "for feat in objList:\n",
    "    all_data[feat] = le.fit_transform(all_data[feat].astype(str))\n",
    "\n",
    "print (all_data.info())"
   ]
  },
  {
   "cell_type": "code",
   "execution_count": 14,
   "id": "3c353859",
   "metadata": {
    "execution": {
     "iopub.execute_input": "2022-03-22T22:27:43.448842Z",
     "iopub.status.busy": "2022-03-22T22:27:43.447861Z",
     "iopub.status.idle": "2022-03-22T22:27:43.460400Z",
     "shell.execute_reply": "2022-03-22T22:27:43.460958Z",
     "shell.execute_reply.started": "2022-03-22T22:16:26.984421Z"
    },
    "papermill": {
     "duration": 0.059671,
     "end_time": "2022-03-22T22:27:43.461137",
     "exception": false,
     "start_time": "2022-03-22T22:27:43.401466",
     "status": "completed"
    },
    "tags": []
   },
   "outputs": [
    {
     "data": {
      "text/html": [
       "<div>\n",
       "<style scoped>\n",
       "    .dataframe tbody tr th:only-of-type {\n",
       "        vertical-align: middle;\n",
       "    }\n",
       "\n",
       "    .dataframe tbody tr th {\n",
       "        vertical-align: top;\n",
       "    }\n",
       "\n",
       "    .dataframe thead th {\n",
       "        text-align: right;\n",
       "    }\n",
       "</style>\n",
       "<table border=\"1\" class=\"dataframe\">\n",
       "  <thead>\n",
       "    <tr style=\"text-align: right;\">\n",
       "      <th></th>\n",
       "      <th>image_name</th>\n",
       "      <th>tags</th>\n",
       "      <th>old</th>\n",
       "      <th>new</th>\n",
       "    </tr>\n",
       "  </thead>\n",
       "  <tbody>\n",
       "    <tr>\n",
       "      <th>0</th>\n",
       "      <td>1</td>\n",
       "      <td>422</td>\n",
       "      <td>20522</td>\n",
       "      <td>20522</td>\n",
       "    </tr>\n",
       "    <tr>\n",
       "      <th>1</th>\n",
       "      <td>2</td>\n",
       "      <td>153</td>\n",
       "      <td>20522</td>\n",
       "      <td>20522</td>\n",
       "    </tr>\n",
       "    <tr>\n",
       "      <th>2</th>\n",
       "      <td>11113</td>\n",
       "      <td>369</td>\n",
       "      <td>20522</td>\n",
       "      <td>20522</td>\n",
       "    </tr>\n",
       "    <tr>\n",
       "      <th>3</th>\n",
       "      <td>22224</td>\n",
       "      <td>369</td>\n",
       "      <td>20522</td>\n",
       "      <td>20522</td>\n",
       "    </tr>\n",
       "    <tr>\n",
       "      <th>4</th>\n",
       "      <td>33335</td>\n",
       "      <td>128</td>\n",
       "      <td>20522</td>\n",
       "      <td>20522</td>\n",
       "    </tr>\n",
       "  </tbody>\n",
       "</table>\n",
       "</div>"
      ],
      "text/plain": [
       "   image_name  tags    old    new\n",
       "0           1   422  20522  20522\n",
       "1           2   153  20522  20522\n",
       "2       11113   369  20522  20522\n",
       "3       22224   369  20522  20522\n",
       "4       33335   128  20522  20522"
      ]
     },
     "execution_count": 14,
     "metadata": {},
     "output_type": "execute_result"
    }
   ],
   "source": [
    "all_data[categorical_columns].head()"
   ]
  },
  {
   "cell_type": "code",
   "execution_count": 15,
   "id": "62c1acec",
   "metadata": {
    "execution": {
     "iopub.execute_input": "2022-03-22T22:27:43.547773Z",
     "iopub.status.busy": "2022-03-22T22:27:43.547173Z",
     "iopub.status.idle": "2022-03-22T22:27:43.674258Z",
     "shell.execute_reply": "2022-03-22T22:27:43.673729Z",
     "shell.execute_reply.started": "2022-03-22T22:16:37.743866Z"
    },
    "papermill": {
     "duration": 0.171317,
     "end_time": "2022-03-22T22:27:43.674395",
     "exception": false,
     "start_time": "2022-03-22T22:27:43.503078",
     "status": "completed"
    },
    "tags": []
   },
   "outputs": [
    {
     "data": {
      "text/plain": [
       "84"
      ]
     },
     "execution_count": 15,
     "metadata": {},
     "output_type": "execute_result"
    }
   ],
   "source": [
    "# split the all-data DF into training and testing again\n",
    "training = all_data[all_data['source']==0]\n",
    "testing = all_data[all_data['source']==1]\n",
    "\n",
    "del all_data\n",
    "gc.collect()"
   ]
  },
  {
   "cell_type": "code",
   "execution_count": 16,
   "id": "71a9fc2a",
   "metadata": {
    "execution": {
     "iopub.execute_input": "2022-03-22T22:27:43.761298Z",
     "iopub.status.busy": "2022-03-22T22:27:43.760651Z",
     "iopub.status.idle": "2022-03-22T22:27:43.763021Z",
     "shell.execute_reply": "2022-03-22T22:27:43.763480Z",
     "shell.execute_reply.started": "2022-03-22T22:16:44.561402Z"
    },
    "papermill": {
     "duration": 0.048401,
     "end_time": "2022-03-22T22:27:43.763636",
     "exception": false,
     "start_time": "2022-03-22T22:27:43.715235",
     "status": "completed"
    },
    "tags": []
   },
   "outputs": [
    {
     "name": "stdout",
     "output_type": "stream",
     "text": [
      "(40479, 5)\n",
      "(20522, 5)\n"
     ]
    }
   ],
   "source": [
    "print(training.shape)\n",
    "print(testing.shape)"
   ]
  },
  {
   "cell_type": "code",
   "execution_count": 17,
   "id": "0f30fee5",
   "metadata": {
    "execution": {
     "iopub.execute_input": "2022-03-22T22:27:43.853887Z",
     "iopub.status.busy": "2022-03-22T22:27:43.851523Z",
     "iopub.status.idle": "2022-03-22T22:27:43.859956Z",
     "shell.execute_reply": "2022-03-22T22:27:43.860586Z",
     "shell.execute_reply.started": "2022-03-22T22:16:52.304045Z"
    },
    "papermill": {
     "duration": 0.054996,
     "end_time": "2022-03-22T22:27:43.860813",
     "exception": false,
     "start_time": "2022-03-22T22:27:43.805817",
     "status": "completed"
    },
    "tags": []
   },
   "outputs": [
    {
     "name": "stdout",
     "output_type": "stream",
     "text": [
      "Training data shape:  (40479, 3)\n",
      "Testing data shape:  (20522, 4)\n"
     ]
    }
   ],
   "source": [
    "#BASELINE\n",
    "#Logistic Regression\n",
    "\n",
    "TARGET = 'image_name'\n",
    "train_labels = training[TARGET]\n",
    "train = training.drop(columns = [TARGET,'source'])\n",
    "features = list(train.columns)\n",
    "test = testing.drop(columns = ['source'])\n",
    "print('Training data shape: ', train.shape)\n",
    "print('Testing data shape: ', test.shape)"
   ]
  },
  {
   "cell_type": "code",
   "execution_count": 18,
   "id": "625b9447",
   "metadata": {
    "execution": {
     "iopub.execute_input": "2022-03-22T22:27:43.949787Z",
     "iopub.status.busy": "2022-03-22T22:27:43.949113Z",
     "iopub.status.idle": "2022-03-22T22:27:43.979146Z",
     "shell.execute_reply": "2022-03-22T22:27:43.978582Z",
     "shell.execute_reply.started": "2022-03-22T22:16:58.164931Z"
    },
    "papermill": {
     "duration": 0.07536,
     "end_time": "2022-03-22T22:27:43.979423",
     "exception": true,
     "start_time": "2022-03-22T22:27:43.904063",
     "status": "failed"
    },
    "tags": []
   },
   "outputs": [
    {
     "name": "stdout",
     "output_type": "stream",
     "text": [
      "Memory usage after optimization is: 0.73 MB\n",
      "Decreased by 0.0%\n"
     ]
    },
    {
     "ename": "SyntaxError",
     "evalue": "'return' outside function (225110008.py, line 31)",
     "output_type": "error",
     "traceback": [
      "\u001b[0;36m  File \u001b[0;32m\"/tmp/ipykernel_19/225110008.py\"\u001b[0;36m, line \u001b[0;32m31\u001b[0m\n\u001b[0;31m    return(training)\u001b[0m\n\u001b[0m                    ^\u001b[0m\n\u001b[0;31mSyntaxError\u001b[0m\u001b[0;31m:\u001b[0m 'return' outside function\n"
     ]
    }
   ],
   "source": [
    "for col in training.columns:\n",
    "    col_type = training[col].dtype\n",
    "\n",
    "    if col_type != object:\n",
    "        c_min = training[col].min()\n",
    "        c_max = training[col].max()\n",
    "        if str(col_type)[:3] == 'int':\n",
    "            if c_min > np.iinfo(np.int8).min and c_max < np.iinfo(np.int8).max:\n",
    "                training[col] = training[col].astype(np.int8)\n",
    "            elif c_min > np.iinfo(np.int16).min and c_max < np.iinfo(np.int16).max:\n",
    "                training[col] = training[col].astype(np.int16)\n",
    "            elif c_min > np.iinfo(np.int32).min and c_max < np.iinfo(np.int32).max:\n",
    "                training[col] = training[col].astype(np.int32)\n",
    "            elif c_min > np.iinfo(np.int64).min and c_max < np.iinfo(np.int64).max:\n",
    "                training[col] = training[col].astype(np.int64)  \n",
    "        else:\n",
    "            if c_min > np.finfo(np.float16).min and c_max < np.finfo(np.float16).max:\n",
    "                training[col] = training[col].astype(np.float16)\n",
    "            elif c_min > np.finfo(np.float32).min and c_max < np.finfo(np.float32).max:\n",
    "                training[col] = training[col].astype(np.float32)\n",
    "            else:\n",
    "                training[col] = training[col].astype(np.float64)\n",
    "    else:\n",
    "        training[col] = training[col].astype('category')\n",
    "        \n",
    "start_mem = training.memory_usage().sum() / 1024**2\n",
    "end_mem = training.memory_usage().sum() / 1024**2\n",
    "print('Memory usage after optimization is: {:.2f} MB'.format(end_mem))\n",
    "print('Decreased by {:.1f}%'.format(100 * (start_mem - end_mem) / start_mem))\n",
    "\n",
    "return(training)\n",
    "        \n",
    "        "
   ]
  },
  {
   "cell_type": "code",
   "execution_count": null,
   "id": "9997a188",
   "metadata": {
    "execution": {
     "iopub.execute_input": "2022-03-22T22:17:10.522398Z",
     "iopub.status.busy": "2022-03-22T22:17:10.521857Z",
     "iopub.status.idle": "2022-03-22T22:17:10.526318Z",
     "shell.execute_reply": "2022-03-22T22:17:10.525380Z",
     "shell.execute_reply.started": "2022-03-22T22:17:10.522360Z"
    },
    "papermill": {
     "duration": null,
     "end_time": null,
     "exception": null,
     "start_time": null,
     "status": "pending"
    },
    "tags": []
   },
   "outputs": [],
   "source": [
    "from sklearn.linear_model import LogisticRegression"
   ]
  },
  {
   "cell_type": "code",
   "execution_count": null,
   "id": "bcb3410a",
   "metadata": {
    "execution": {
     "iopub.execute_input": "2022-03-22T20:50:53.226358Z",
     "iopub.status.busy": "2022-03-22T20:50:53.226013Z",
     "iopub.status.idle": "2022-03-22T20:50:53.304433Z",
     "shell.execute_reply": "2022-03-22T20:50:53.303244Z",
     "shell.execute_reply.started": "2022-03-22T20:50:53.22627Z"
    },
    "papermill": {
     "duration": null,
     "end_time": null,
     "exception": null,
     "start_time": null,
     "status": "pending"
    },
    "tags": []
   },
   "outputs": [],
   "source": [
    "# Make the model with the specified regularization parameter\n",
    "log_reg = LogisticRegression(C = 0.1)\n",
    "\n",
    "# Train on the training data\n",
    "log_reg.fit(train, train_labels)"
   ]
  },
  {
   "cell_type": "code",
   "execution_count": null,
   "id": "f8defaf0",
   "metadata": {
    "execution": {
     "iopub.execute_input": "2022-03-22T22:24:56.839280Z",
     "iopub.status.busy": "2022-03-22T22:24:56.838996Z",
     "iopub.status.idle": "2022-03-22T22:24:56.844082Z",
     "shell.execute_reply": "2022-03-22T22:24:56.842955Z",
     "shell.execute_reply.started": "2022-03-22T22:24:56.839252Z"
    },
    "papermill": {
     "duration": null,
     "end_time": null,
     "exception": null,
     "start_time": null,
     "status": "pending"
    },
    "tags": []
   },
   "outputs": [],
   "source": [
    "# Make the random forest classifier\n",
    "rf = RandomForestClassifier(n_estimators = 100, random_state = 50, verbose = 1)"
   ]
  },
  {
   "cell_type": "code",
   "execution_count": null,
   "id": "3dbce334",
   "metadata": {
    "execution": {
     "iopub.execute_input": "2022-03-22T22:25:00.999162Z",
     "iopub.status.busy": "2022-03-22T22:25:00.998678Z",
     "iopub.status.idle": "2022-03-22T22:25:01.132430Z",
     "shell.execute_reply": "2022-03-22T22:25:01.131189Z",
     "shell.execute_reply.started": "2022-03-22T22:25:00.999130Z"
    },
    "papermill": {
     "duration": null,
     "end_time": null,
     "exception": null,
     "start_time": null,
     "status": "pending"
    },
    "tags": []
   },
   "outputs": [],
   "source": [
    "df_train.to_csv('df_train.csv', index=False)"
   ]
  },
  {
   "cell_type": "code",
   "execution_count": null,
   "id": "4b0fcc3c",
   "metadata": {
    "execution": {
     "iopub.execute_input": "2022-03-22T22:26:32.158788Z",
     "iopub.status.busy": "2022-03-22T22:26:32.158429Z",
     "iopub.status.idle": "2022-03-22T22:26:32.217847Z",
     "shell.execute_reply": "2022-03-22T22:26:32.217168Z",
     "shell.execute_reply.started": "2022-03-22T22:26:32.158752Z"
    },
    "papermill": {
     "duration": null,
     "end_time": null,
     "exception": null,
     "start_time": null,
     "status": "pending"
    },
    "tags": []
   },
   "outputs": [],
   "source": [
    "df_test.to_csv('df_test.csv', index=False)"
   ]
  },
  {
   "cell_type": "code",
   "execution_count": null,
   "id": "25c40f16",
   "metadata": {
    "execution": {
     "iopub.execute_input": "2022-03-22T20:45:44.665093Z",
     "iopub.status.busy": "2022-03-22T20:45:44.664197Z"
    },
    "jupyter": {
     "source_hidden": true
    },
    "papermill": {
     "duration": null,
     "end_time": null,
     "exception": null,
     "start_time": null,
     "status": "pending"
    },
    "tags": []
   },
   "outputs": [],
   "source": [
    "# Make the model with the specified regularization parameter\n",
    "from sklearn.linear_model import LogisticRegression\n",
    "log_reg = LogisticRegression(C = 0.1)\n",
    "\n",
    "# Train on the training data\n",
    "log_reg.fit(train, train_labels)"
   ]
  },
  {
   "cell_type": "code",
   "execution_count": null,
   "id": "bc1d17b9",
   "metadata": {
    "papermill": {
     "duration": null,
     "end_time": null,
     "exception": null,
     "start_time": null,
     "status": "pending"
    },
    "tags": []
   },
   "outputs": [],
   "source": []
  },
  {
   "cell_type": "code",
   "execution_count": null,
   "id": "66924a6e",
   "metadata": {
    "execution": {
     "iopub.execute_input": "2022-03-22T20:42:14.019069Z",
     "iopub.status.busy": "2022-03-22T20:42:14.018781Z",
     "iopub.status.idle": "2022-03-22T20:42:14.040352Z",
     "shell.execute_reply": "2022-03-22T20:42:14.038862Z",
     "shell.execute_reply.started": "2022-03-22T20:42:14.01904Z"
    },
    "papermill": {
     "duration": null,
     "end_time": null,
     "exception": null,
     "start_time": null,
     "status": "pending"
    },
    "tags": []
   },
   "outputs": [],
   "source": [
    "# Make predictions\n",
    "# Make sure to select the second column only\n",
    "log_reg_pred = log_reg.predict_proba(test)[:, 1]"
   ]
  },
  {
   "cell_type": "code",
   "execution_count": null,
   "id": "eadb35c1",
   "metadata": {
    "execution": {
     "iopub.execute_input": "2022-03-22T15:23:33.296803Z",
     "iopub.status.busy": "2022-03-22T15:23:33.296484Z",
     "iopub.status.idle": "2022-03-22T15:23:33.303787Z",
     "shell.execute_reply": "2022-03-22T15:23:33.302897Z",
     "shell.execute_reply.started": "2022-03-22T15:23:33.296773Z"
    },
    "papermill": {
     "duration": null,
     "end_time": null,
     "exception": null,
     "start_time": null,
     "status": "pending"
    },
    "tags": []
   },
   "outputs": [],
   "source": [
    "from pathlib import Path\n",
    "import numpy as np\n",
    "import pandas as pd\n",
    "data_path = Path(\"'../input/planet-dataset-m/train_v2.csv\")\n",
    "test_base = pd.read_csv(\n",
    "    data_path /''../input/planet-dataset-m/train_v2.csv'')\n",
    "sub = pd.read_csv(\n",
    "    data_path / '../input/planet-dataset-m/train_v2.csv')\n",
    "\n",
    "sub.assign(\n",
    "    latDeg = test_base.latDeg,\n",
    "    lngDeg = test_base.lngDeg\n",
    ").to_csv(\n",
    "    'submission.csv', index=False\n",
    ")\n"
   ]
  },
  {
   "cell_type": "code",
   "execution_count": null,
   "id": "6990d897",
   "metadata": {
    "papermill": {
     "duration": null,
     "end_time": null,
     "exception": null,
     "start_time": null,
     "status": "pending"
    },
    "tags": []
   },
   "outputs": [],
   "source": []
  }
 ],
 "metadata": {
  "kernelspec": {
   "display_name": "Python 3",
   "language": "python",
   "name": "python3"
  },
  "language_info": {
   "codemirror_mode": {
    "name": "ipython",
    "version": 3
   },
   "file_extension": ".py",
   "mimetype": "text/x-python",
   "name": "python",
   "nbconvert_exporter": "python",
   "pygments_lexer": "ipython3",
   "version": "3.7.12"
  },
  "papermill": {
   "default_parameters": {},
   "duration": 34.345518,
   "end_time": "2022-03-22T22:27:44.733177",
   "environment_variables": {},
   "exception": true,
   "input_path": "__notebook__.ipynb",
   "output_path": "__notebook__.ipynb",
   "parameters": {},
   "start_time": "2022-03-22T22:27:10.387659",
   "version": "2.3.3"
  }
 },
 "nbformat": 4,
 "nbformat_minor": 5
}
